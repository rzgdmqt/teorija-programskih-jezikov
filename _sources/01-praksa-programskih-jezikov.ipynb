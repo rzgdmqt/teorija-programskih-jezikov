{
 "cells": [
  {
   "cell_type": "markdown",
   "id": "72eb1d32",
   "metadata": {},
   "source": [
    "# Praksa programskih jezikov"
   ]
  },
  {
   "cell_type": "code",
   "execution_count": 1,
   "id": "c2d5f9e3",
   "metadata": {
    "tags": [
     "remove-cell",
     "remove-stdout"
    ]
   },
   "outputs": [],
   "source": [
    "(* Ko se v Jupytru prvič požene OCaml, program Findlib izpiše neko sporočilo.\n",
    "   Da se to sporočilo ne bi videlo v zapiskih, je tu ta celica, ki sproži izpis,\n",
    "   vendar ima nastavljeno, da je v zapiskih v celoti skrita. *)"
   ]
  },
  {
   "cell_type": "markdown",
   "id": "f891ec7d",
   "metadata": {},
   "source": [
    "Da lahko začnemo raziskovati lastnosti programskih jezikov, potrebujemo primer takega jezika. To bo enostaven ukazni (oz. imperativni) programski jezik IMP, ki podpira aritmetične izraze (cela števila, spremenljivke, aritmetične operacije), logične izraze (logični konstanti ter primerjave aritmetičnih izrazov) ter ukaze (pogojne stavke, zanke, …).\n",
    "\n",
    "## Sintaksa jezika\n",
    "\n",
    "Prva stvar, ki jo moramo podati v definiciji programskega jezika, je njegova sintaksa - torej zapis vseh izrazov, ki jih jezik omogoča. Ločujemo med _konkretno sintakso_, ki definira zaporedja znakov, ki predstavljajo veljavne programe, ter _abstraktno sintakso_, ki možne izraze jezika predstavi z drevesno strukturo. Na primer, `1 + (2 * 3)` in `1+2*3` sta različna niza konkretne sintakse, ki oba predstavljata izraz abstraktne sintakse, predstavljen z drevesom\n",
    "\n",
    "      +\n",
    "     / \\\n",
    "    1   *\n",
    "       / \\\n",
    "      2   3\n",
    "\n",
    "ki ga na krajše pišemo kar kot $1 + (2 * 3)$, pri čemer matematična pisava nakazuje, da nas podrobnosti, kot so presledki, ne zanimajo.\n",
    "\n",
    "### Konkretna sintaksa\n",
    "\n",
    "Konkretno sintakso običajno podajamo v [Backus-Naurovi obliki (BNF)](https://en.m.wikipedia.org/wiki/Backus–Naur_form). Ker mora konkretno sintakso razumeti tudi računalnik, v njej upoštevamo tudi presledke, zamike, oklepaje, komentarje, …  Ta je sestavljena iz pravil, ki povedo, kakšne vrste simbolov lahko nastopajo v jeziku. Pravilo, ki podaja sintakso določenega simbola je oblike\n",
    "\n",
    "    <simbol> ::= moznost1 | moznost2 | ...\n",
    "\n",
    "kjer je vsaka izmed možnosti sestavljena iz enega ali več nizov ali drugih simbolov. Na primer, simbol za števko `<digit>` je lahko kateri koli izmed nizov `\"0\"`, `\"1\"`, …, `\"9\"`, številka pa je sestavljena iz ene ali več števk ter morebitnega predznaka:\n",
    "\n",
    "    <digit> ::= \"0\" | \"1\" | ... | \"9\"\n",
    "    <digits> ::= \"\" | <digit> <digits>\n",
    "    <integer> ::= <digits> | \"-\" <digits>\n",
    "\n",
    "Za programski jezik IMP bo konkretna sintaksa\n",
    "\n",
    "    <space> ::= \" \" | \"\\n\" | \"\\t\" | \"\\r\"\n",
    "    <spaces> ::= \"\" | <spaces1>\n",
    "    <spaces1> ::= <space> <spaces>\n",
    "\n",
    "    <alpha> ::= \"a\" | \"b\" | ... | \"z\"\n",
    "    <alphanum> ::= <alpha> | <digit>\n",
    "    <alphanums> ::= \"\" | <alphanum> <alphanums>\n",
    "    <ident> ::= <alpha> <alhpanums>\n",
    "    <location> ::= \"#\" <ident>\n",
    "\n",
    "    <exp> ::= <atomic_exp> <spaces> \"+\" <spaces> <atomic_exp>\n",
    "           |  <atomic_exp> <spaces> \"-\" <spaces> <atomic_exp>\n",
    "           |  <atomic_exp> <spaces> \"*\" <spaces> <atomic_exp>\n",
    "           |  <atomic_exp>\n",
    "    <atomic_exp> ::= <location>\n",
    "                  |  <integer>\n",
    "                  |  \"(\" <spaces> <exp> <spaces> \")\"\n",
    "    <bexp> ::= \"true\"\n",
    "            |  \"false\"\n",
    "            |  <exp> <spaces> \"=\" <spaces> <exp>\n",
    "            |  <exp> <spaces> \"<\" <spaces> <exp>\n",
    "            |  <exp> <spaces> \">\" <spaces> <exp>\n",
    "    <cmd> ::= \"IF\" <spaces1> <bexp> <spaces1> \"THEN\" <spaces1> <cmd> <spaces1> \"ELSE\" <spaces1> <cmd>\n",
    "           |  \"WHILE\" <spaces1> <bexp> <spaces1> \"DO\" <spaces1> <cmd>\n",
    "           |  <atomic_cmd> <spaces> \";\" <spaces> <cmd>\n",
    "    <atomic_cmd> ::= <location> <spaces> \":=\" <spaces> <exp>\n",
    "                  |  \"SKIP\"\n",
    "                  |  \"(\" <spaces> <cmd> <spaces> \")\"\n",
    "\n",
    "Kaj predstavljajo zgoraj omenjeni simboli, si bomo ogledali pri abstraktni sintaksi jezika IMP, za idejo pa lahko vseeno podamo primer veljavnega programa v konkretni sintaksi:\n",
    "\n",
    "    #fact := 1;\n",
    "    WHILE #m > 0 DO (\n",
    "        #fact := #fact * #m;\n",
    "        #m := #m - 1\n",
    "    )\n",
    "\n",
    "Videti je, da program v pomnilniško lokacijo `#fact` shrani fakulteto števila, shranjenega v `#m`, vendar tega ne vemo, dokler ne podamo semantike jezika.\n",
    "\n",
    "### Abstraktna sintaksa\n",
    "\n",
    "Kot smo že videli, v abstraktni sintaksi možne izraze predstavimo z drevesi, katerih otroci predstavljajo njihove podizraze. Zaradi krajšega zapisa pa tudi abstraktno sintakso podamo v zapisu, podobnemu BNF, pri čemer nas podrobnosti, kot so oklepaji ali točen zapis spremenljivk in števil ne zanima.  Tako bomo predpostavili, da $n$ predstavlja poljubno celo število, $\\ell$ pa poljubno pomnilniško lokacijo.\n",
    "\n",
    "Kot smo že omenili, je jezik IMP sestavljen iz aritmetičnih izrazov, ki jih bomo označevali s spremenljivko $e$, logičnih izrazov, ki jih bomo označevali z $b$, ter ukazov, ki jih bomo označevali s $c$.\n",
    "\n",
    "$$\n",
    "  \\begin{aligned}\n",
    "    \\text{aritmetični izraz } e &::=\n",
    "      \\ell \\mid\n",
    "      \\intsym{n} \\mid\n",
    "      e_1 + e_2 \\mid\n",
    "      e_1 - e_2 \\mid\n",
    "      e_1 * e_2 \\\\\n",
    "    \\text{logični izraz } b &::=\n",
    "      \\true \\mid\n",
    "      \\false \\mid\n",
    "      e_1 = e_2 \\mid\n",
    "      e_1 < e_2 \\mid\n",
    "      e_1 > e_2 \\\\\n",
    "    \\text{ukaz } c &::=\n",
    "      \\ifthenelse{b}{c_1}{c_2} \\mid\n",
    "      \\whiledo{b}{c} \\mid\n",
    "      c_1 ; c_2 \\mid\n",
    "      \\ell := e \\mid\n",
    "      \\skip\n",
    "  \\end{aligned}\n",
    "$$\n",
    "\n",
    "Oglejmo si vse veljavne dele jezika, pri čemer bomo za vsakega neformalno povedali, kaj predstavlja. Aritmetični izrazi so sestavljeni iz branja vrednosti pomnilniških lokacij, celoštevilskih konstant (ki jih podčrtamo, da jih ločimo od celih števil) ter aritmetičnih operacij, logični izrazi pa so sestavljeni iz logičnih konstant ter primerjav. Ukazi so bolj zanimivi:\n",
    "\n",
    "- pogojni ukaz, ki izvede $c_1$, kadar $b$ predstavlja resnično logično vrednost, oziroma $c_2$, kadar $b$ predstavlja neresnično logično vrednost;\n",
    "- zanka while` izvaja ukaz $c$, dokler $b$ predstavlja resnično logično vrednost;\n",
    "- zaporedno izvajanje najprej izvede $c_1$ - ko (če) se ta konča, izvede še $c_2$;\n",
    "- prirejanje izračuna aritmetični izraz $e$ ter njegovo vrednost zapiše v pomnilniško lokacijo $\\ell$;\n",
    "- zadnji ukaz ne naredi ničesar, uporabimo pa ga na primer takrat, kadar v pogojnem stavku želimo nekaj storiti le v eni izmed vej.\n",
    "\n",
    "Zgornji program bi v abstraktni sintaksi lahko predstavili z ukazom\n",
    "\n",
    "$$\n",
    "  \\begin{aligned}\n",
    "    &\\mathsf{fact} := \\intsym{1}; \\\\\n",
    "    &\\whiledo{\\mathsf{m} > \\intsym{0}}{} \\\\\n",
    "    &\\quad \\mathsf{fact} := \\mathsf{fact} * \\mathsf{m}; \\\\\n",
    "    &\\quad \\mathsf{m} := \\mathsf{m} - \\intsym{1}\n",
    "  \\end{aligned}\n",
    "$$\n",
    "\n",
    "## Implementacija jezika\n",
    "\n",
    "Običajno bi po sintaksi jezika formalno podali še njegovo semantiko, torej pomen posameznih delov. Ker za to še nimamo ustreznih matematičnih orodij, bomo ravnali podobno kot pri večini programskih jezikov: napisali bomo implementacijo, torej program, ki prebere ukaze, zapisane v konkretni sintaksi, ter jih na nek (po vsej sreči smiselen) način izvede. Nato pa bomo proglasili, da je pomen programa v IMPu tisto, ker implementacija z njim naredi. Implementacijo bomo napisali v programskem jeziku [OCaml](https://ocaml.org), ki je eden najprikladnejših jezikov za implementacije programskih jezikov. Končnica `ML` namreč pomeni _meta-language_ oziroma metajezik, torej jezik za opis jezikov.\n",
    "\n",
    "### Implementacija abstraktne sintakse\n",
    "\n",
    "Sintakso, ki je sestavljena iz treh vrst izrazov, bomo predstavili s tremi induktivnimi tipi. Pomnilniške lokacije bomo predstavili kar z nizi, vendar jih bomo zaradi lažjega razločevanja ovili s konstruktorjem."
   ]
  },
  {
   "cell_type": "code",
   "execution_count": 2,
   "id": "15e8be2b",
   "metadata": {
    "tags": [
     "remove-output"
    ]
   },
   "outputs": [
    {
     "data": {
      "text/plain": [
       "type location = Location of string\n"
      ]
     },
     "execution_count": 2,
     "metadata": {},
     "output_type": "execute_result"
    },
    {
     "data": {
      "text/plain": [
       "type exp =\n",
       "    Lookup of location\n",
       "  | Int of int\n",
       "  | Plus of exp * exp\n",
       "  | Minus of exp * exp\n",
       "  | Times of exp * exp\n"
      ]
     },
     "execution_count": 2,
     "metadata": {},
     "output_type": "execute_result"
    },
    {
     "data": {
      "text/plain": [
       "type bexp =\n",
       "    Bool of bool\n",
       "  | Equal of exp * exp\n",
       "  | Less of exp * exp\n",
       "  | Greater of exp * exp\n"
      ]
     },
     "execution_count": 2,
     "metadata": {},
     "output_type": "execute_result"
    },
    {
     "data": {
      "text/plain": [
       "type cmd =\n",
       "    IfThenElse of bexp * cmd * cmd\n",
       "  | WhileDo of bexp * cmd\n",
       "  | Seq of cmd * cmd\n",
       "  | Assign of location * exp\n",
       "  | Skip\n"
      ]
     },
     "execution_count": 2,
     "metadata": {},
     "output_type": "execute_result"
    }
   ],
   "source": [
    "type location = Location of string\n",
    "\n",
    "type exp =\n",
    "  | Lookup of location\n",
    "  | Int of int\n",
    "  | Plus of exp * exp\n",
    "  | Minus of exp * exp\n",
    "  | Times of exp * exp\n",
    "\n",
    "type bexp =\n",
    "  | Bool of bool\n",
    "  | Equal of exp * exp\n",
    "  | Less of exp * exp\n",
    "  | Greater of exp * exp\n",
    "\n",
    "type cmd =\n",
    "  | IfThenElse of bexp * cmd * cmd\n",
    "  | WhileDo of bexp * cmd\n",
    "  | Seq of cmd * cmd\n",
    "  | Assign of location * exp\n",
    "  | Skip"
   ]
  },
  {
   "cell_type": "markdown",
   "id": "f92f4a5e",
   "metadata": {},
   "source": [
    "Na primer, aritmetična izraza $e_1 = (\\intsym{6} * \\intsym{7})$ in $e_2 = (\\mathsf{m} - \\intsym{1})$ bi predstavili z"
   ]
  },
  {
   "cell_type": "code",
   "execution_count": 3,
   "id": "6b15bdb8",
   "metadata": {},
   "outputs": [
    {
     "data": {
      "text/plain": [
       "val exp1 : exp = Times (Int 6, Int 7)\n"
      ]
     },
     "execution_count": 3,
     "metadata": {},
     "output_type": "execute_result"
    },
    {
     "data": {
      "text/plain": [
       "val exp2 : exp = Minus (Lookup (Location \"m\"), Int 1)\n"
      ]
     },
     "execution_count": 3,
     "metadata": {},
     "output_type": "execute_result"
    }
   ],
   "source": [
    "let exp1 = Times (Int 6, Int 7)\n",
    "let exp2 = Minus (Lookup (Location \"m\"), Int 1)"
   ]
  },
  {
   "cell_type": "markdown",
   "id": "17d5d197",
   "metadata": {},
   "source": [
    "logični izraz $b = (\\mathsf{m} > \\intsym{0})$ z"
   ]
  },
  {
   "cell_type": "code",
   "execution_count": 4,
   "id": "63855342",
   "metadata": {},
   "outputs": [
    {
     "data": {
      "text/plain": [
       "val bexp : bexp = Greater (Lookup (Location \"m\"), Int 0)\n"
      ]
     },
     "execution_count": 4,
     "metadata": {},
     "output_type": "execute_result"
    }
   ],
   "source": [
    "let bexp = Greater (Lookup (Location \"m\"), Int 0)"
   ]
  },
  {
   "cell_type": "markdown",
   "id": "79d5d330",
   "metadata": {},
   "source": [
    "ukaza $c_1 = (\\mathsf{m} := e_2)$ in $c_2 = (\\whiledo{b}{c_1})$ pa z"
   ]
  },
  {
   "cell_type": "code",
   "execution_count": 5,
   "id": "799b939f",
   "metadata": {},
   "outputs": [
    {
     "data": {
      "text/plain": [
       "val cmd1 : cmd = Assign (Location \"m\", Minus (Lookup (Location \"m\"), Int 1))\n"
      ]
     },
     "execution_count": 5,
     "metadata": {},
     "output_type": "execute_result"
    },
    {
     "data": {
      "text/plain": [
       "val cmd2 : cmd =\n",
       "  WhileDo (Greater (Lookup (Location \"m\"), Int 0),\n",
       "   Assign (Location \"m\", Minus (Lookup (Location \"m\"), Int 1)))\n"
      ]
     },
     "execution_count": 5,
     "metadata": {},
     "output_type": "execute_result"
    }
   ],
   "source": [
    "let cmd1 = Assign (Location \"m\", exp2)\n",
    "let cmd2 = WhileDo (bexp, cmd1)"
   ]
  },
  {
   "cell_type": "markdown",
   "id": "e0d82d1b",
   "metadata": {},
   "source": [
    "### Implementacija izvajanja\n",
    "\n",
    "Pomen bomo najprej določili aritmetičnim izrazom, ki naj bi predstavljali cela števila. Ker izrazi lahko vsebujejo pomnilniške lokacije, mora funkcija za evalvacijo poleg izraza sprejeti tudi trenutno stanje pomnilnika, ki ga bomo predstavili kar s seznamom parov, ki danim lokacijam pripiše cela števila, na primer"
   ]
  },
  {
   "cell_type": "code",
   "execution_count": 6,
   "id": "faed415d",
   "metadata": {},
   "outputs": [
    {
     "data": {
      "text/plain": [
       "val st1 : (location * int) list = [(Location \"m\", 10); (Location \"n\", 0)]\n"
      ]
     },
     "execution_count": 6,
     "metadata": {},
     "output_type": "execute_result"
    },
    {
     "data": {
      "text/plain": [
       "val st2 : (location * int) list = [(Location \"m\", 5)]\n"
      ]
     },
     "execution_count": 6,
     "metadata": {},
     "output_type": "execute_result"
    }
   ],
   "source": [
    "let st1 = [(Location \"m\", 10); (Location \"n\", 0)]\n",
    "let st2 = [(Location \"m\", 5)]"
   ]
  },
  {
   "cell_type": "code",
   "execution_count": 7,
   "id": "0b083e2c",
   "metadata": {},
   "outputs": [
    {
     "data": {
      "text/plain": [
       "val eval_exp : (location * int) list -> exp -> int = <fun>\n"
      ]
     },
     "execution_count": 7,
     "metadata": {},
     "output_type": "execute_result"
    }
   ],
   "source": [
    "let rec eval_exp st = function\n",
    "  | Lookup l -> List.assoc l st\n",
    "  | Int n -> n\n",
    "  | Plus (e1, e2) -> eval_exp st e1 + eval_exp st e2\n",
    "  | Minus (e1, e2) -> eval_exp st e1 - eval_exp st e2\n",
    "  | Times (e1, e2) -> eval_exp st e1 * eval_exp st e2"
   ]
  },
  {
   "cell_type": "markdown",
   "id": "3bad875c",
   "metadata": {},
   "source": [
    "Tako na primer velja"
   ]
  },
  {
   "cell_type": "code",
   "execution_count": 8,
   "id": "0367995f",
   "metadata": {},
   "outputs": [
    {
     "data": {
      "text/plain": [
       "- : int = 42\n"
      ]
     },
     "execution_count": 8,
     "metadata": {},
     "output_type": "execute_result"
    }
   ],
   "source": [
    "eval_exp [] exp1"
   ]
  },
  {
   "cell_type": "code",
   "execution_count": 9,
   "id": "de75adc1",
   "metadata": {},
   "outputs": [
    {
     "data": {
      "text/plain": [
       "- : int = 9\n"
      ]
     },
     "execution_count": 9,
     "metadata": {},
     "output_type": "execute_result"
    }
   ],
   "source": [
    "eval_exp st1 exp2"
   ]
  },
  {
   "cell_type": "code",
   "execution_count": 10,
   "id": "169fd901",
   "metadata": {},
   "outputs": [
    {
     "data": {
      "text/plain": [
       "- : int = 4\n"
      ]
     },
     "execution_count": 10,
     "metadata": {},
     "output_type": "execute_result"
    }
   ],
   "source": [
    "eval_exp st2 exp2"
   ]
  },
  {
   "cell_type": "markdown",
   "id": "4ac23197",
   "metadata": {},
   "source": [
    "Podobno lahko definiramo funkcijo za evalvacijo logičnih izrazov, ki sprejme stanje in logični izraz ter vrne logično vrednost:"
   ]
  },
  {
   "cell_type": "code",
   "execution_count": 11,
   "id": "530c66fb",
   "metadata": {},
   "outputs": [
    {
     "data": {
      "text/plain": [
       "val eval_bexp : (location * int) list -> bexp -> bool = <fun>\n"
      ]
     },
     "execution_count": 11,
     "metadata": {},
     "output_type": "execute_result"
    }
   ],
   "source": [
    "let eval_bexp st = function\n",
    "  | Bool b -> b\n",
    "  | Equal (e1, e2) -> eval_exp st e1 = eval_exp st e2\n",
    "  | Less (e1, e2) -> eval_exp st e1 < eval_exp st e2\n",
    "  | Greater (e1, e2) -> eval_exp st e1 > eval_exp st e2"
   ]
  },
  {
   "cell_type": "code",
   "execution_count": 12,
   "id": "7a80c9d5",
   "metadata": {},
   "outputs": [
    {
     "data": {
      "text/plain": [
       "- : bool = true\n"
      ]
     },
     "execution_count": 12,
     "metadata": {},
     "output_type": "execute_result"
    }
   ],
   "source": [
    "eval_bexp st1 bexp"
   ]
  },
  {
   "cell_type": "code",
   "execution_count": 13,
   "id": "8282dde8",
   "metadata": {},
   "outputs": [
    {
     "data": {
      "text/plain": [
       "- : bool = true\n"
      ]
     },
     "execution_count": 13,
     "metadata": {},
     "output_type": "execute_result"
    }
   ],
   "source": [
    "eval_bexp st2 bexp"
   ]
  },
  {
   "cell_type": "markdown",
   "id": "3fb32514",
   "metadata": {},
   "source": [
    "Nazadnje definirajmo še funkcijo za evalvacijo ukazov. Funkcija sprejme stanje in ukaz, vrne pa končno vrednost stanja po izvršenem ukazu."
   ]
  },
  {
   "cell_type": "code",
   "execution_count": 14,
   "id": "5fcff880",
   "metadata": {},
   "outputs": [
    {
     "data": {
      "text/plain": [
       "val eval_cmd : (location * int) list -> cmd -> (location * int) list = <fun>\n"
      ]
     },
     "execution_count": 14,
     "metadata": {},
     "output_type": "execute_result"
    }
   ],
   "source": [
    "let rec eval_cmd st = function\n",
    "  | IfThenElse (b, c1, c2) ->\n",
    "      if eval_bexp st b then eval_cmd st c1 else eval_cmd st c2\n",
    "  | WhileDo (b, c) ->\n",
    "      (* eval_cmd st (IfThenElse (b, Seq (c, WhileDo (b, c)), Skip)) *)\n",
    "      if eval_bexp st b then\n",
    "        let st' = eval_cmd st c in\n",
    "        eval_cmd st' (WhileDo (b, c))\n",
    "      else st\n",
    "  | Seq (c1, c2) ->\n",
    "      let st' = eval_cmd st c1 in\n",
    "      eval_cmd st' c2\n",
    "  | Assign (l, e) -> (l, eval_exp st e) :: List.remove_assoc l st\n",
    "  | Skip -> st"
   ]
  },
  {
   "cell_type": "code",
   "execution_count": 15,
   "id": "51cb2800",
   "metadata": {},
   "outputs": [
    {
     "data": {
      "text/plain": [
       "- : (location * int) list = [(Location \"m\", 9); (Location \"n\", 0)]\n"
      ]
     },
     "execution_count": 15,
     "metadata": {},
     "output_type": "execute_result"
    }
   ],
   "source": [
    "eval_cmd st1 cmd1"
   ]
  },
  {
   "cell_type": "code",
   "execution_count": 16,
   "id": "ff8141af",
   "metadata": {},
   "outputs": [
    {
     "data": {
      "text/plain": [
       "- : (location * int) list = [(Location \"m\", 4)]\n"
      ]
     },
     "execution_count": 16,
     "metadata": {},
     "output_type": "execute_result"
    }
   ],
   "source": [
    "eval_cmd st2 cmd1"
   ]
  },
  {
   "cell_type": "code",
   "execution_count": 17,
   "id": "7d323805",
   "metadata": {},
   "outputs": [
    {
     "data": {
      "text/plain": [
       "- : (location * int) list = [(Location \"m\", 0); (Location \"n\", 0)]\n"
      ]
     },
     "execution_count": 17,
     "metadata": {},
     "output_type": "execute_result"
    }
   ],
   "source": [
    "eval_cmd st1 cmd2"
   ]
  },
  {
   "cell_type": "code",
   "execution_count": 18,
   "id": "c4d27103",
   "metadata": {},
   "outputs": [
    {
     "data": {
      "text/plain": [
       "- : (location * int) list = [(Location \"m\", 0)]\n"
      ]
     },
     "execution_count": 18,
     "metadata": {},
     "output_type": "execute_result"
    }
   ],
   "source": [
    "eval_cmd st2 cmd2"
   ]
  },
  {
   "cell_type": "markdown",
   "id": "291cce00",
   "metadata": {},
   "source": [
    "### Implementacija razčlenjevalnika\n",
    "\n",
    "### Glavni program\n",
    "\n",
    "## Vaje\n",
    "\n",
    "### Naloga 1\n",
    "\n",
    "Napišite sintaktična drevesa, ki ustrezajo programom:\n",
    "\n",
    "    #a := 2 + #b\n",
    "\n",
    "    if #x = 2 then \n",
    "      #x := 3\n",
    "    else\n",
    "      skip\n",
    "\n",
    "    while #z > 0 do \n",
    "      #z := #z - 1;\n",
    "      #w := #z + #w\n",
    "\n",
    "    (while #z > 0 do #z := #z - 1);\n",
    "    #w := #z + #w\n",
    "\n",
    "### Naloga 2\n",
    "\n",
    "Programe najprej napišite v OCamlu, nato pa jih prevedite v programski jezik IMP.\n",
    "\n",
    "1. Napišite program, ki sešteje vsa naravna števila manjša od `n`.\n",
    "\n",
    "2. Napišite program, ki preveri, ali je podano število praštevilo.\n",
    "\n",
    "### Naloga 3\n",
    "\n",
    "Razmislite, kako bi dopolnili sintakso in implementacijo jezika IMP z:\n",
    "\n",
    "1. logičnima veznikoma `&&` in `||`,\n",
    "\n",
    "2. ukazom `SWITCH`, ki zamenja vrednosti dveh lokacij,\n",
    "\n",
    "3. ukazom `FAIL`, ki prekine izvajanje programa.\n",
    "\n",
    "### Naloga 4\n",
    "\n",
    "Izboljšajte razčlenjevalnik, da bo dopolnil nepopolne pogojne ukaze. Ukaz `IF b THEN c` naj se prevede v enako sintaktično drevo kot `IF b THEN c ELSE SKIP`.\n",
    "\n",
    "### Naloga 5\n",
    "\n",
    "Dopolnite vse dele jezika IMP s podporo za zanke `FOR` oblike:\n",
    "\n",
    "    FOR l := e1 TO e2 DO\n",
    "      c\n",
    "\n",
    "ki najprej izračuna vrednosti aritmetičnih izrazov `e1` in `e2`, nato pa zaporedoma vsako celo število med njima shrani v `l` ter izvede ukaz `c`."
   ]
  }
 ],
 "metadata": {
  "jupytext": {
   "text_representation": {
    "extension": ".md",
    "format_name": "myst",
    "format_version": 0.12,
    "jupytext_version": "1.8.0"
   }
  },
  "kernelspec": {
   "display_name": "OCaml 4.11",
   "language": "OCaml",
   "name": "ocaml-jupyter"
  },
  "language_info": {
   "codemirror_mode": "text/x-ocaml",
   "file_extension": ".ml",
   "mimetype": "text/x-ocaml",
   "name": "OCaml",
   "nbconverter_exporter": null,
   "pygments_lexer": "OCaml",
   "version": "4.14.0"
  },
  "source_map": [
   12,
   16,
   22,
   147,
   171,
   175,
   178,
   182,
   184,
   188,
   191,
   197,
   202,
   209,
   213,
   217,
   221,
   223,
   227,
   235,
   239,
   241,
   245,
   262,
   266,
   270,
   274,
   276
  ]
 },
 "nbformat": 4,
 "nbformat_minor": 5
}