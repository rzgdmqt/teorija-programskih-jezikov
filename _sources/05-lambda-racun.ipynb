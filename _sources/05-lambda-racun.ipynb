{
 "cells": [
  {
   "cell_type": "markdown",
   "id": "5375172b",
   "metadata": {},
   "source": [
    "# λ-račun"
   ]
  },
  {
   "cell_type": "code",
   "execution_count": 1,
   "id": "a008a863",
   "metadata": {
    "tags": [
     "remove-cell",
     "remove-stdout"
    ]
   },
   "outputs": [],
   "source": [
    "(* Ko se v Jupytru prvič požene OCaml, program Findlib izpiše neko sporočilo.\n",
    "   Da se to sporočilo ne bi videlo v zapiskih, je tu ta celica, ki sproži izpis,\n",
    "   vendar ima nastavljeno, da je v zapiskih v celoti skrita. *)"
   ]
  },
  {
   "cell_type": "markdown",
   "id": "def33cd9",
   "metadata": {},
   "source": [
    "## Vaje\n",
    "\n",
    "### Naloga 1\n",
    "\n",
    "Dopolnite lambda račun s celimi števili <u>`n`</u> in seštevanjem `e1 + e2`.  \n",
    "\n",
    "- Dopolnite pravila za leno in neučakano izvajanje izvajanje velikih in malih korakov. Komentirajte, kje se pojavijo ključne razlike.\n",
    "\n",
    "### Naloga 2\n",
    "\n",
    "Izračunajte spodnje izraze v lambda računu. Jasno označite korake izvajanja pri vsakem.\n",
    "\n",
    "- `(\\y -> (\\x -> x + y)) 2 3`\n",
    "- `(\\y -> (\\x -> x + x)) 2 3`\n",
    "- `(\\x -> x x) (\\x -> x x)`\n",
    "\n",
    "### Naloga 3\n",
    "\n",
    "Razložite kaj naredijo naslednje funkcije za Churchova števila\n",
    "\n",
    "- `\\n f z -> f (n f z)`\n",
    "- `\\n f z -> n f (f z)`\n",
    "- `\\m n f z -> m f (n f x)`\n",
    "- `\\m n f z -> m (n f) z`\n",
    "- `\\m n -> n m`\n",
    "\n",
    "### Naloga 4\n",
    "\n",
    "Uporabite Churchovo kodiranje za predstavitev seznamov kot aplikacije `fold` na tem seznamu."
   ]
  }
 ],
 "metadata": {
  "jupytext": {
   "text_representation": {
    "extension": ".md",
    "format_name": "myst",
    "format_version": 0.12,
    "jupytext_version": "1.8.0"
   }
  },
  "kernelspec": {
   "display_name": "OCaml 4.11",
   "language": "OCaml",
   "name": "ocaml-jupyter"
  },
  "language_info": {
   "codemirror_mode": "text/x-ocaml",
   "file_extension": ".ml",
   "mimetype": "text/x-ocaml",
   "name": "OCaml",
   "nbconverter_exporter": null,
   "pygments_lexer": "OCaml",
   "version": "4.13.1"
  },
  "source_map": [
   12,
   16,
   22
  ]
 },
 "nbformat": 4,
 "nbformat_minor": 5
}